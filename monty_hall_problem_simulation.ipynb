{
 "cells": [
  {
   "cell_type": "code",
   "execution_count": 1,
   "metadata": {
    "ExecuteTime": {
     "end_time": "2019-07-02T18:12:58.410729Z",
     "start_time": "2019-07-02T21:12:58.405743+03:00"
    }
   },
   "outputs": [],
   "source": [
    "import random as rd"
   ]
  },
  {
   "cell_type": "code",
   "execution_count": 2,
   "metadata": {
    "ExecuteTime": {
     "end_time": "2019-07-02T18:12:59.167052Z",
     "start_time": "2019-07-02T21:12:59.134143+03:00"
    }
   },
   "outputs": [],
   "source": [
    "def run_simulation_round(change_opinion=False):\n",
    "    player_options = [1, 2, 3]\n",
    "    host_options = [1, 2, 3]\n",
    "    \n",
    "    # hide prize behind one of the doors\n",
    "    prize_door = rd.randint(1, 3)\n",
    "    \n",
    "    # player chooses on of the doors\n",
    "    player_choice = rd.choice(player_options)\n",
    "    player_options.remove(player_choice)\n",
    "    \n",
    "    # host can't open the door with the prize\n",
    "    host_options.remove(prize_door)\n",
    "    # host can't open the door player has chosen\n",
    "    if player_choice != prize_door:\n",
    "        host_options.remove(player_choice)\n",
    "    \n",
    "    open_door = rd.choice(host_options)\n",
    "    # now player can't choose this door too\n",
    "    player_options.remove(open_door)\n",
    "    \n",
    "    # player can change his mind or not\n",
    "    if change_opinion:\n",
    "        player_choice = rd.choice(player_options)\n",
    "\n",
    "    success = player_choice == prize_door\n",
    "    return success\n",
    "\n",
    "def run_simulations(n_rounds=1000, change_opinion=False):\n",
    "    n_success = 0\n",
    "    \n",
    "    for i in range(n_rounds):\n",
    "        success = run_simulation_round(change_opinion)\n",
    "        n_success += int(success)\n",
    "        \n",
    "    prob = n_success / n_rounds\n",
    "    \n",
    "    if change_opinion:\n",
    "        print('Player chose to change his mind')\n",
    "    else:\n",
    "        print('Player chose not to change his mind')\n",
    "    print('Player won {} times out of {} ({:.2} probability of winning)'.format(n_success, n_rounds, prob))\n",
    "    "
   ]
  },
  {
   "cell_type": "code",
   "execution_count": 6,
   "metadata": {
    "ExecuteTime": {
     "end_time": "2019-07-02T18:13:14.676552Z",
     "start_time": "2019-07-02T21:13:14.654612+03:00"
    }
   },
   "outputs": [
    {
     "name": "stdout",
     "output_type": "stream",
     "text": [
      "Player chose not to change his mind\n",
      "Player won 326 times out of 1000 (0.33 probability of winning)\n",
      "\n",
      "Player chose to change his mind\n",
      "Player won 652 times out of 1000 (0.65 probability of winning)\n"
     ]
    }
   ],
   "source": [
    "n_rounds = 1000\n",
    "run_simulations(n_rounds)\n",
    "print()\n",
    "run_simulations(n_rounds, change_opinion=True)"
   ]
  },
  {
   "cell_type": "code",
   "execution_count": null,
   "metadata": {},
   "outputs": [],
   "source": []
  }
 ],
 "metadata": {
  "kernelspec": {
   "display_name": "Python 3",
   "language": "python",
   "name": "python3"
  },
  "language_info": {
   "codemirror_mode": {
    "name": "ipython",
    "version": 3
   },
   "file_extension": ".py",
   "mimetype": "text/x-python",
   "name": "python",
   "nbconvert_exporter": "python",
   "pygments_lexer": "ipython3",
   "version": "3.6.4"
  },
  "toc": {
   "base_numbering": 1,
   "nav_menu": {},
   "number_sections": true,
   "sideBar": true,
   "skip_h1_title": false,
   "title_cell": "Table of Contents",
   "title_sidebar": "Contents",
   "toc_cell": false,
   "toc_position": {},
   "toc_section_display": true,
   "toc_window_display": false
  },
  "varInspector": {
   "cols": {
    "lenName": 16,
    "lenType": 16,
    "lenVar": 40
   },
   "kernels_config": {
    "python": {
     "delete_cmd_postfix": "",
     "delete_cmd_prefix": "del ",
     "library": "var_list.py",
     "varRefreshCmd": "print(var_dic_list())"
    },
    "r": {
     "delete_cmd_postfix": ") ",
     "delete_cmd_prefix": "rm(",
     "library": "var_list.r",
     "varRefreshCmd": "cat(var_dic_list()) "
    }
   },
   "types_to_exclude": [
    "module",
    "function",
    "builtin_function_or_method",
    "instance",
    "_Feature"
   ],
   "window_display": false
  }
 },
 "nbformat": 4,
 "nbformat_minor": 2
}
